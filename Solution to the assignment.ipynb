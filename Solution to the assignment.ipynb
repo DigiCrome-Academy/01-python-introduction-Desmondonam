{
 "cells": [
  {
   "cell_type": "code",
   "execution_count": 1,
   "id": "695a6db9-8926-428b-becc-394fcc0e36a8",
   "metadata": {},
   "outputs": [
    {
     "name": "stdout",
     "output_type": "stream",
     "text": [
      "Welcome to python for data Science\n"
     ]
    }
   ],
   "source": [
    "print(\"Welcome to python for data Science\")"
   ]
  },
  {
   "cell_type": "code",
   "execution_count": 3,
   "id": "bdc3bb8a-6007-4172-a2bd-6c40d7ec9256",
   "metadata": {},
   "outputs": [
    {
     "name": "stdout",
     "output_type": "stream",
     "text": [
      "Hi, My name is Desmond Onam, and I love Python for Data Science and I have 7 year of experience in Data Science\n"
     ]
    }
   ],
   "source": [
    "name = \"Desmond Onam\"\n",
    "fav_tool = \"Python\"\n",
    "year_Exp = 7\n",
    "\n",
    "print(f\"Hi, My name is {name}, and I love {fav_tool} for Data Science and I have {year_Exp} year of experience in Data Science\")"
   ]
  },
  {
   "cell_type": "code",
   "execution_count": null,
   "id": "6b452637-a728-424d-ae20-b969349daef7",
   "metadata": {},
   "outputs": [],
   "source": []
  }
 ],
 "metadata": {
  "kernelspec": {
   "display_name": "Python 3 (ipykernel)",
   "language": "python",
   "name": "python3"
  },
  "language_info": {
   "codemirror_mode": {
    "name": "ipython",
    "version": 3
   },
   "file_extension": ".py",
   "mimetype": "text/x-python",
   "name": "python",
   "nbconvert_exporter": "python",
   "pygments_lexer": "ipython3",
   "version": "3.12.7"
  }
 },
 "nbformat": 4,
 "nbformat_minor": 5
}
